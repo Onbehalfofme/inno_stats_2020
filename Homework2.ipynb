{
  "nbformat": 4,
  "nbformat_minor": 0,
  "metadata": {
    "colab": {
      "name": "Homework2.ipynb",
      "provenance": [],
      "authorship_tag": "ABX9TyO3ozHuAc/DJ9WmUf9e93ug"
    },
    "kernelspec": {
      "name": "python3",
      "display_name": "Python 3"
    },
    "language_info": {
      "name": "python"
    }
  },
  "cells": [
    {
      "cell_type": "code",
      "metadata": {
        "id": "9-SmF_INgS49"
      },
      "source": [
        "import pandas as pd\n",
        "import numpy as np\n",
        "import matplotlib.pyplot as plt\n"
      ],
      "execution_count": 1,
      "outputs": []
    },
    {
      "cell_type": "code",
      "metadata": {
        "colab": {
          "base_uri": "https://localhost:8080/"
        },
        "id": "ADHyr2F-rfpf",
        "outputId": "19423bd9-6773-451a-8519-d474fd2b2215"
      },
      "source": [
        "!gdown --id 13Qm6ztAmVyBHvo_mch6gk-2VYKUHeRuu"
      ],
      "execution_count": 2,
      "outputs": [
        {
          "output_type": "stream",
          "text": [
            "Downloading...\n",
            "From: https://drive.google.com/uc?id=13Qm6ztAmVyBHvo_mch6gk-2VYKUHeRuu\n",
            "To: /content/inno_stats.tar.gz\n",
            "1.91GB [00:11, 164MB/s]\n"
          ],
          "name": "stdout"
        }
      ]
    },
    {
      "cell_type": "code",
      "metadata": {
        "colab": {
          "base_uri": "https://localhost:8080/"
        },
        "id": "2Ix7QqV-su_T",
        "outputId": "7ddfad45-f0dd-4479-fcde-13e67fd1d9f3"
      },
      "source": [
        "!tar -xvf inno_stats.tar.gz"
      ],
      "execution_count": 3,
      "outputs": [
        {
          "output_type": "stream",
          "text": [
            "09_groups.csv\n",
            "10_groups.csv\n",
            "11_groups.csv\n",
            "product_groups.csv\n"
          ],
          "name": "stdout"
        }
      ]
    },
    {
      "cell_type": "code",
      "metadata": {
        "id": "6Qqcy7ymteON"
      },
      "source": [
        "df = pd.read_csv(\"09_groups.csv\")"
      ],
      "execution_count": 4,
      "outputs": []
    },
    {
      "cell_type": "markdown",
      "metadata": {
        "id": "ocpQRCwJBQ9-"
      },
      "source": [
        "# Hypothesis is that sum of goods in card is the same independently on whether there are duscounted goods."
      ]
    },
    {
      "cell_type": "code",
      "metadata": {
        "id": "Peq6dOT5zlVX"
      },
      "source": [
        "bad_df = pd.read_csv(\"bad_ids.csv\")"
      ],
      "execution_count": 6,
      "outputs": []
    },
    {
      "cell_type": "code",
      "metadata": {
        "id": "z3096M5-xi9f"
      },
      "source": [
        "df = df[~df['id_card'].isin(set(bad_df['id_card']))]"
      ],
      "execution_count": 7,
      "outputs": []
    },
    {
      "cell_type": "code",
      "metadata": {
        "colab": {
          "base_uri": "https://localhost:8080/"
        },
        "id": "PLPKqsemu035",
        "outputId": "b2d36275-cfb8-4a72-9cee-ec098e9f9a2a"
      },
      "source": [
        "green_docs =set(df[df['is_green'] == 1]['id_doc'])\n",
        "len(green_docs)"
      ],
      "execution_count": 11,
      "outputs": [
        {
          "output_type": "execute_result",
          "data": {
            "text/plain": [
              "1064042"
            ]
          },
          "metadata": {
            "tags": []
          },
          "execution_count": 11
        }
      ]
    },
    {
      "cell_type": "code",
      "metadata": {
        "id": "EtG-ccW-yLGy"
      },
      "source": [
        "green = df[df['id_doc'].isin(green_docs)].groupby('id_doc').sum()['sum']"
      ],
      "execution_count": 12,
      "outputs": []
    },
    {
      "cell_type": "code",
      "metadata": {
        "id": "iOPc8pco5q6O"
      },
      "source": [
        "usual =  df[~df['id_doc'].isin(green_docs)].groupby('id_doc').sum()['sum']"
      ],
      "execution_count": 13,
      "outputs": []
    },
    {
      "cell_type": "code",
      "metadata": {
        "id": "yewDDWUj_HNR"
      },
      "source": [
        "green_std = np.std(green)\n",
        "usual_std = np.std(usual)\n",
        "from scipy import stats\n",
        "_, pval = stats.ttest_ind(usual, green, equal_var=False)"
      ],
      "execution_count": 14,
      "outputs": []
    },
    {
      "cell_type": "code",
      "metadata": {
        "colab": {
          "base_uri": "https://localhost:8080/"
        },
        "id": "NNfKoqq-DZaZ",
        "outputId": "e7705f75-653f-460e-f6c0-7135aae87814"
      },
      "source": [
        "pval"
      ],
      "execution_count": 15,
      "outputs": [
        {
          "output_type": "execute_result",
          "data": {
            "text/plain": [
              "0.0"
            ]
          },
          "metadata": {
            "tags": []
          },
          "execution_count": 15
        }
      ]
    },
    {
      "cell_type": "code",
      "metadata": {
        "id": "h54VkzYhAiGG"
      },
      "source": [
        "del green\n",
        "del usual"
      ],
      "execution_count": 16,
      "outputs": []
    },
    {
      "cell_type": "markdown",
      "metadata": {
        "id": "8vr9nOWbEVdV"
      },
      "source": [
        "P value is zero so we reject the null hypothesis and discounted goods depend on sum."
      ]
    },
    {
      "cell_type": "markdown",
      "metadata": {
        "id": "ZAo0mvALGrUG"
      },
      "source": [
        "# Plot sum of the cards over days"
      ]
    },
    {
      "cell_type": "code",
      "metadata": {
        "id": "Yka-dFJ8Gc9h"
      },
      "source": [
        "df.index = pd.to_datetime(df['date'],format='%Y-%m-%d %H:%M:%S')"
      ],
      "execution_count": 17,
      "outputs": []
    },
    {
      "cell_type": "code",
      "metadata": {
        "id": "7fp-YhuwG8Ad"
      },
      "source": [
        "sum_of_spendings = df.groupby(by=[df.index.day])['id_doc'].sum()"
      ],
      "execution_count": 18,
      "outputs": []
    },
    {
      "cell_type": "code",
      "metadata": {
        "colab": {
          "base_uri": "https://localhost:8080/",
          "height": 508
        },
        "id": "DbIg_fe1HHrA",
        "outputId": "883c5a46-3a1f-4c34-f455-ea44e887f131"
      },
      "source": [
        "\n",
        "plt.figure(figsize=(10,8))\n",
        "plt.locator_params(axis=\"x\", nbins=50)\n",
        "sum_of_spendings.plot()\n",
        "plt.grid()"
      ],
      "execution_count": 19,
      "outputs": [
        {
          "output_type": "display_data",
          "data": {
            "image/png": "[encoded data removed]",
            "text/plain": [
              "<Figure size 720x576 with 1 Axes>"
            ]
          },
          "metadata": {
            "tags": [],
            "needs_background": "light"
          }
        }
      ]
    },
    {
      "cell_type": "markdown",
      "metadata": {
        "id": "lIBiBW81gUgz"
      },
      "source": [
        "The graph fluctuates all over the month there is no tendnecy over 1-6, 20-26 days of the month."
      ]
    },
    {
      "cell_type": "markdown",
      "metadata": {
        "id": "n2DAZJzMgixN"
      },
      "source": [
        "# Task 3 Frequent buyers"
      ]
    },
    {
      "cell_type": "code",
      "metadata": {
        "colab": {
          "base_uri": "https://localhost:8080/"
        },
        "id": "MoPIloV4hCgg",
        "outputId": "2381d68d-3e87-4b81-fd35-9ce1a19da46b"
      },
      "source": [
        "frequent = df.groupby('id_card').count()\n",
        "frequent.sort_values('id_doc',ascending=False)['id_doc'][:20]"
      ],
      "execution_count": 25,
      "outputs": [
        {
          "output_type": "execute_result",
          "data": {
            "text/plain": [
              "id_card\n",
              "1243870    707\n",
              "1137696    640\n",
              "5959       620\n",
              "230546     559\n",
              "784759     548\n",
              "542043     543\n",
              "710070     530\n",
              "1024720    515\n",
              "1071249    514\n",
              "307111     511\n",
              "1027635    510\n",
              "137172     509\n",
              "1089158    508\n",
              "378148     508\n",
              "1155342    501\n",
              "1268011    501\n",
              "1071808    497\n",
              "854789     497\n",
              "229676     495\n",
              "799152     494\n",
              "Name: id_doc, dtype: int64"
            ]
          },
          "metadata": {
            "tags": []
          },
          "execution_count": 25
        }
      ]
    }
  ]
}